{
 "cells": [
  {
   "cell_type": "markdown",
   "metadata": {},
   "source": [
    "# Softmax exercise\n",
    "\n",
    "*Complete and hand in this completed worksheet (including its outputs and any supporting code outside of the worksheet) with your assignment submission. For more details see the [assignments page](http://vision.stanford.edu/teaching/cs231n/assignments.html) on the course website.*\n",
    "\n",
    "This exercise is analogous to the SVM exercise. You will:\n",
    "\n",
    "- implement a fully-vectorized **loss function** for the Softmax classifier\n",
    "- implement the fully-vectorized expression for its **analytic gradient**\n",
    "- **check your implementation** with numerical gradient\n",
    "- use a validation set to **tune the learning rate and regularization** strength\n",
    "- **optimize** the loss function with **SGD**\n",
    "- **visualize** the final learned weights\n"
   ]
  },
  {
   "cell_type": "code",
   "execution_count": 1,
   "metadata": {},
   "outputs": [],
   "source": [
    "import random\n",
    "import numpy as np\n",
    "from cs231n.data_utils import load_CIFAR10\n",
    "import matplotlib.pyplot as plt\n",
    "\n",
    "from __future__ import print_function\n",
    "\n",
    "%matplotlib inline\n",
    "plt.rcParams['figure.figsize'] = (10.0, 8.0) # set default size of plots\n",
    "plt.rcParams['image.interpolation'] = 'nearest'\n",
    "plt.rcParams['image.cmap'] = 'gray'\n",
    "\n",
    "# for auto-reloading extenrnal modules\n",
    "# see http://stackoverflow.com/questions/1907993/autoreload-of-modules-in-ipython\n",
    "%load_ext autoreload\n",
    "%autoreload 2"
   ]
  },
  {
   "cell_type": "code",
   "execution_count": 2,
   "metadata": {},
   "outputs": [
    {
     "name": "stdout",
     "output_type": "stream",
     "text": [
      "Train data shape:  (49000, 3073)\n",
      "Train labels shape:  (49000,)\n",
      "Validation data shape:  (1000, 3073)\n",
      "Validation labels shape:  (1000,)\n",
      "Test data shape:  (1000, 3073)\n",
      "Test labels shape:  (1000,)\n",
      "dev data shape:  (500, 3073)\n",
      "dev labels shape:  (500,)\n"
     ]
    }
   ],
   "source": [
    "def get_CIFAR10_data(num_training=49000, num_validation=1000, num_test=1000, num_dev=500):\n",
    "    \"\"\"\n",
    "    Load the CIFAR-10 dataset from disk and perform preprocessing to prepare\n",
    "    it for the linear classifier. These are the same steps as we used for the\n",
    "    SVM, but condensed to a single function.  \n",
    "    \"\"\"\n",
    "    # Load the raw CIFAR-10 data\n",
    "    cifar10_dir = 'cs231n/datasets/cifar-10-batches-py'\n",
    "    \n",
    "    X_train, y_train, X_test, y_test = load_CIFAR10(cifar10_dir)\n",
    "    \n",
    "    # subsample the data\n",
    "    mask = list(range(num_training, num_training + num_validation))\n",
    "    X_val = X_train[mask]\n",
    "    y_val = y_train[mask]\n",
    "    mask = list(range(num_training))\n",
    "    X_train = X_train[mask]\n",
    "    y_train = y_train[mask]\n",
    "    mask = list(range(num_test))\n",
    "    X_test = X_test[mask]\n",
    "    y_test = y_test[mask]\n",
    "    mask = np.random.choice(num_training, num_dev, replace=False)\n",
    "    X_dev = X_train[mask]\n",
    "    y_dev = y_train[mask]\n",
    "    \n",
    "    # Preprocessing: reshape the image data into rows\n",
    "    X_train = np.reshape(X_train, (X_train.shape[0], -1))\n",
    "    X_val = np.reshape(X_val, (X_val.shape[0], -1))\n",
    "    X_test = np.reshape(X_test, (X_test.shape[0], -1))\n",
    "    X_dev = np.reshape(X_dev, (X_dev.shape[0], -1))\n",
    "    \n",
    "    # Normalize the data: subtract the mean image\n",
    "    mean_image = np.mean(X_train, axis = 0)\n",
    "    X_train -= mean_image\n",
    "    X_val -= mean_image\n",
    "    X_test -= mean_image\n",
    "    X_dev -= mean_image\n",
    "    \n",
    "    # add bias dimension and transform into columns\n",
    "    X_train = np.hstack([X_train, np.ones((X_train.shape[0], 1))])\n",
    "    X_val = np.hstack([X_val, np.ones((X_val.shape[0], 1))])\n",
    "    X_test = np.hstack([X_test, np.ones((X_test.shape[0], 1))])\n",
    "    X_dev = np.hstack([X_dev, np.ones((X_dev.shape[0], 1))])\n",
    "    \n",
    "    return X_train, y_train, X_val, y_val, X_test, y_test, X_dev, y_dev\n",
    "\n",
    "\n",
    "# Cleaning up variables to prevent loading data multiple times (which may cause memory issue)\n",
    "try:\n",
    "   del X_train, y_train\n",
    "   del X_test, y_test\n",
    "   print('Clear previously loaded data.')\n",
    "except:\n",
    "   pass\n",
    "\n",
    "# Invoke the above function to get our data.\n",
    "X_train, y_train, X_val, y_val, X_test, y_test, X_dev, y_dev = get_CIFAR10_data()\n",
    "print('Train data shape: ', X_train.shape)\n",
    "print('Train labels shape: ', y_train.shape)\n",
    "print('Validation data shape: ', X_val.shape)\n",
    "print('Validation labels shape: ', y_val.shape)\n",
    "print('Test data shape: ', X_test.shape)\n",
    "print('Test labels shape: ', y_test.shape)\n",
    "print('dev data shape: ', X_dev.shape)\n",
    "print('dev labels shape: ', y_dev.shape)"
   ]
  },
  {
   "cell_type": "markdown",
   "metadata": {},
   "source": [
    "## Softmax Classifier\n",
    "\n",
    "Your code for this section will all be written inside **cs231n/classifiers/softmax.py**. \n"
   ]
  },
  {
   "cell_type": "code",
   "execution_count": 8,
   "metadata": {},
   "outputs": [
    {
     "name": "stdout",
     "output_type": "stream",
     "text": [
      "loss: 2.321342\n",
      "sanity check: 2.302585\n"
     ]
    }
   ],
   "source": [
    "# First implement the naive softmax loss function with nested loops.\n",
    "# Open the file cs231n/classifiers/softmax.py and implement the\n",
    "# softmax_loss_naive function.\n",
    "\n",
    "from cs231n.classifiers.softmax import softmax_loss_naive\n",
    "import time\n",
    "\n",
    "# Generate a random softmax weight matrix and use it to compute the loss.\n",
    "W = np.random.randn(3073, 10) * 0.0001\n",
    "loss, grad = softmax_loss_naive(W, X_dev, y_dev, 0.0)\n",
    "\n",
    "# As a rough sanity check, our loss should be something close to -log(0.1).\n",
    "print('loss: %f' % loss)\n",
    "print('sanity check: %f' % (-np.log(0.1)))"
   ]
  },
  {
   "cell_type": "markdown",
   "metadata": {},
   "source": [
    "## Inline Question 1:\n",
    "Why do we expect our loss to be close to -log(0.1)? Explain briefly.**\n",
    "\n",
    "**Your answer:** *Fill this in*\n"
   ]
  },
  {
   "cell_type": "code",
   "execution_count": 17,
   "metadata": {},
   "outputs": [
    {
     "name": "stdout",
     "output_type": "stream",
     "text": [
      "numerical: 0.922749 analytic: 0.922749, relative error: 4.813992e-08\n",
      "numerical: 0.581711 analytic: 0.581711, relative error: 1.023894e-07\n",
      "numerical: 3.970421 analytic: 3.970421, relative error: 4.948100e-09\n",
      "numerical: 1.483598 analytic: 1.483598, relative error: 8.417487e-09\n",
      "numerical: -0.639563 analytic: -0.639563, relative error: 2.881877e-09\n",
      "numerical: -1.829095 analytic: -1.829095, relative error: 2.777208e-08\n",
      "numerical: 0.720388 analytic: 0.720388, relative error: 5.536050e-08\n",
      "numerical: 1.636767 analytic: 1.636767, relative error: 2.565608e-08\n",
      "numerical: -2.499042 analytic: -2.499043, relative error: 2.738149e-08\n",
      "numerical: -1.435427 analytic: -1.435427, relative error: 3.848786e-08\n",
      "numerical: 0.575142 analytic: 0.575142, relative error: 9.304405e-08\n",
      "numerical: -0.152623 analytic: -0.152623, relative error: 4.958477e-08\n",
      "numerical: 1.468754 analytic: 1.468754, relative error: 2.373826e-08\n",
      "numerical: 0.488212 analytic: 0.488212, relative error: 4.086244e-10\n",
      "numerical: 2.510162 analytic: 2.510162, relative error: 9.087340e-09\n",
      "numerical: -0.796564 analytic: -0.796564, relative error: 3.760750e-08\n",
      "numerical: 2.588526 analytic: 2.588526, relative error: 8.671746e-09\n",
      "numerical: -2.094583 analytic: -2.094583, relative error: 2.929761e-08\n",
      "numerical: -1.505760 analytic: -1.505760, relative error: 5.845435e-08\n",
      "numerical: 2.660338 analytic: 2.660338, relative error: 1.596319e-08\n"
     ]
    }
   ],
   "source": [
    "# Complete the implementation of softmax_loss_naive and implement a (naive)\n",
    "# version of the gradient that uses nested loops.\n",
    "loss, grad = softmax_loss_naive(W, X_dev, y_dev, 0.0)\n",
    "\n",
    "# As we did for the SVM, use numeric gradient checking as a debugging tool.\n",
    "# The numeric gradient should be close to the analytic gradient.\n",
    "from cs231n.gradient_check import grad_check_sparse\n",
    "f = lambda w: softmax_loss_naive(w, X_dev, y_dev, 0.0)[0]\n",
    "grad_numerical = grad_check_sparse(f, W, grad, 10)\n",
    "\n",
    "# similar to SVM case, do another gradient check with regularization\n",
    "loss, grad = softmax_loss_naive(W, X_dev, y_dev, 5e1)\n",
    "f = lambda w: softmax_loss_naive(w, X_dev, y_dev, 5e1)[0]\n",
    "grad_numerical = grad_check_sparse(f, W, grad, 10)"
   ]
  },
  {
   "cell_type": "code",
   "execution_count": 60,
   "metadata": {
    "scrolled": false
   },
   "outputs": [
    {
     "name": "stdout",
     "output_type": "stream",
     "text": [
      "naive loss: 2.321318e+00 computed in 0.203050s\n",
      "vectorized loss: 2.321318e+00 computed in 0.002044s\n",
      "Loss difference: 0.000000\n",
      "Gradient difference: 0.000000\n"
     ]
    }
   ],
   "source": [
    "# Now that we have a naive implementation of the softmax loss function and its gradient,\n",
    "# implement a vectorized version in softmax_loss_vectorized.\n",
    "# The two versions should compute the same results, but the vectorized version should be\n",
    "# much faster.\n",
    "tic = time.time()\n",
    "loss_naive, grad_naive = softmax_loss_naive(W, X_dev, y_dev, 0.000005)\n",
    "toc = time.time()\n",
    "print('naive loss: %e computed in %fs' % (loss_naive, toc - tic))\n",
    "\n",
    "from cs231n.classifiers.softmax import softmax_loss_vectorized\n",
    "tic = time.time()\n",
    "loss_vectorized, grad_vectorized = softmax_loss_vectorized(W, X_dev, y_dev, 0.000005)\n",
    "toc = time.time()\n",
    "print('vectorized loss: %e computed in %fs' % (loss_vectorized, toc - tic))\n",
    "\n",
    "# As we did for the SVM, we use the Frobenius norm to compare the two versions\n",
    "# of the gradient.\n",
    "grad_difference = np.linalg.norm(grad_naive - grad_vectorized, ord='fro')\n",
    "print('Loss difference: %f' % np.abs(loss_naive - loss_vectorized))\n",
    "print('Gradient difference: %f' % grad_difference)"
   ]
  },
  {
   "cell_type": "code",
   "execution_count": 64,
   "metadata": {},
   "outputs": [
    {
     "name": "stdout",
     "output_type": "stream",
     "text": [
      "lr 1.000000e-08 reg 1.000000e+03 train accuracy: 0.149163 val accuracy: 0.168000\n",
      "lr 1.000000e-08 reg 1.668101e+03 train accuracy: 0.174612 val accuracy: 0.193000\n",
      "lr 1.000000e-08 reg 2.782559e+03 train accuracy: 0.143510 val accuracy: 0.140000\n",
      "lr 1.000000e-08 reg 4.641589e+03 train accuracy: 0.164224 val accuracy: 0.164000\n",
      "lr 1.000000e-08 reg 7.742637e+03 train accuracy: 0.162551 val accuracy: 0.173000\n",
      "lr 1.000000e-08 reg 1.291550e+04 train accuracy: 0.174857 val accuracy: 0.173000\n",
      "lr 1.000000e-08 reg 2.154435e+04 train accuracy: 0.179020 val accuracy: 0.198000\n",
      "lr 1.000000e-08 reg 3.593814e+04 train accuracy: 0.196245 val accuracy: 0.232000\n",
      "lr 1.000000e-08 reg 5.994843e+04 train accuracy: 0.211755 val accuracy: 0.205000\n",
      "lr 1.000000e-08 reg 1.000000e+05 train accuracy: 0.266531 val accuracy: 0.268000\n",
      "lr 1.668101e-08 reg 1.000000e+03 train accuracy: 0.179755 val accuracy: 0.167000\n",
      "lr 1.668101e-08 reg 1.668101e+03 train accuracy: 0.181633 val accuracy: 0.175000\n",
      "lr 1.668101e-08 reg 2.782559e+03 train accuracy: 0.185367 val accuracy: 0.180000\n",
      "lr 1.668101e-08 reg 4.641589e+03 train accuracy: 0.193898 val accuracy: 0.201000\n",
      "lr 1.668101e-08 reg 7.742637e+03 train accuracy: 0.181286 val accuracy: 0.190000\n",
      "lr 1.668101e-08 reg 1.291550e+04 train accuracy: 0.199163 val accuracy: 0.197000\n",
      "lr 1.668101e-08 reg 2.154435e+04 train accuracy: 0.213490 val accuracy: 0.221000\n",
      "lr 1.668101e-08 reg 3.593814e+04 train accuracy: 0.261204 val accuracy: 0.272000\n",
      "lr 1.668101e-08 reg 5.994843e+04 train accuracy: 0.287327 val accuracy: 0.305000\n",
      "lr 1.668101e-08 reg 1.000000e+05 train accuracy: 0.290020 val accuracy: 0.303000\n",
      "lr 2.782559e-08 reg 1.000000e+03 train accuracy: 0.199939 val accuracy: 0.206000\n",
      "lr 2.782559e-08 reg 1.668101e+03 train accuracy: 0.185408 val accuracy: 0.181000\n",
      "lr 2.782559e-08 reg 2.782559e+03 train accuracy: 0.197122 val accuracy: 0.199000\n",
      "lr 2.782559e-08 reg 4.641589e+03 train accuracy: 0.213429 val accuracy: 0.210000\n",
      "lr 2.782559e-08 reg 7.742637e+03 train accuracy: 0.229286 val accuracy: 0.215000\n",
      "lr 2.782559e-08 reg 1.291550e+04 train accuracy: 0.252592 val accuracy: 0.263000\n",
      "lr 2.782559e-08 reg 2.154435e+04 train accuracy: 0.282980 val accuracy: 0.287000\n",
      "lr 2.782559e-08 reg 3.593814e+04 train accuracy: 0.306184 val accuracy: 0.327000\n",
      "lr 2.782559e-08 reg 5.994843e+04 train accuracy: 0.294878 val accuracy: 0.311000\n",
      "lr 2.782559e-08 reg 1.000000e+05 train accuracy: 0.286061 val accuracy: 0.301000\n",
      "lr 4.641589e-08 reg 1.000000e+03 train accuracy: 0.229796 val accuracy: 0.233000\n",
      "lr 4.641589e-08 reg 1.668101e+03 train accuracy: 0.220429 val accuracy: 0.223000\n",
      "lr 4.641589e-08 reg 2.782559e+03 train accuracy: 0.232163 val accuracy: 0.237000\n",
      "lr 4.641589e-08 reg 4.641589e+03 train accuracy: 0.245796 val accuracy: 0.252000\n",
      "lr 4.641589e-08 reg 7.742637e+03 train accuracy: 0.277449 val accuracy: 0.286000\n",
      "lr 4.641589e-08 reg 1.291550e+04 train accuracy: 0.309061 val accuracy: 0.307000\n",
      "lr 4.641589e-08 reg 2.154435e+04 train accuracy: 0.327347 val accuracy: 0.338000\n",
      "lr 4.641589e-08 reg 3.593814e+04 train accuracy: 0.314980 val accuracy: 0.332000\n",
      "lr 4.641589e-08 reg 5.994843e+04 train accuracy: 0.298204 val accuracy: 0.310000\n",
      "lr 4.641589e-08 reg 1.000000e+05 train accuracy: 0.290490 val accuracy: 0.296000\n",
      "lr 7.742637e-08 reg 1.000000e+03 train accuracy: 0.257592 val accuracy: 0.270000\n",
      "lr 7.742637e-08 reg 1.668101e+03 train accuracy: 0.261061 val accuracy: 0.264000\n",
      "lr 7.742637e-08 reg 2.782559e+03 train accuracy: 0.275143 val accuracy: 0.280000\n",
      "lr 7.742637e-08 reg 4.641589e+03 train accuracy: 0.299388 val accuracy: 0.294000\n",
      "lr 7.742637e-08 reg 7.742637e+03 train accuracy: 0.330286 val accuracy: 0.346000\n",
      "lr 7.742637e-08 reg 1.291550e+04 train accuracy: 0.344184 val accuracy: 0.366000\n",
      "lr 7.742637e-08 reg 2.154435e+04 train accuracy: 0.336980 val accuracy: 0.354000\n",
      "lr 7.742637e-08 reg 3.593814e+04 train accuracy: 0.324388 val accuracy: 0.334000\n",
      "lr 7.742637e-08 reg 5.994843e+04 train accuracy: 0.295857 val accuracy: 0.311000\n",
      "lr 7.742637e-08 reg 1.000000e+05 train accuracy: 0.291204 val accuracy: 0.305000\n",
      "lr 1.291550e-07 reg 1.000000e+03 train accuracy: 0.276388 val accuracy: 0.299000\n",
      "lr 1.291550e-07 reg 1.668101e+03 train accuracy: 0.300551 val accuracy: 0.301000\n",
      "lr 1.291550e-07 reg 2.782559e+03 train accuracy: 0.324082 val accuracy: 0.338000\n",
      "lr 1.291550e-07 reg 4.641589e+03 train accuracy: 0.354469 val accuracy: 0.373000\n",
      "lr 1.291550e-07 reg 7.742637e+03 train accuracy: 0.361796 val accuracy: 0.385000\n",
      "lr 1.291550e-07 reg 1.291550e+04 train accuracy: 0.348796 val accuracy: 0.361000\n",
      "lr 1.291550e-07 reg 2.154435e+04 train accuracy: 0.335531 val accuracy: 0.349000\n",
      "lr 1.291550e-07 reg 3.593814e+04 train accuracy: 0.319000 val accuracy: 0.341000\n",
      "lr 1.291550e-07 reg 5.994843e+04 train accuracy: 0.298551 val accuracy: 0.315000\n",
      "lr 1.291550e-07 reg 1.000000e+05 train accuracy: 0.296143 val accuracy: 0.311000\n",
      "lr 2.154435e-07 reg 1.000000e+03 train accuracy: 0.327143 val accuracy: 0.320000\n",
      "lr 2.154435e-07 reg 1.668101e+03 train accuracy: 0.345653 val accuracy: 0.371000\n",
      "lr 2.154435e-07 reg 2.782559e+03 train accuracy: 0.371959 val accuracy: 0.379000\n",
      "lr 2.154435e-07 reg 4.641589e+03 train accuracy: 0.371673 val accuracy: 0.378000\n",
      "lr 2.154435e-07 reg 7.742637e+03 train accuracy: 0.363898 val accuracy: 0.381000\n",
      "lr 2.154435e-07 reg 1.291550e+04 train accuracy: 0.348551 val accuracy: 0.361000\n",
      "lr 2.154435e-07 reg 2.154435e+04 train accuracy: 0.329102 val accuracy: 0.344000\n",
      "lr 2.154435e-07 reg 3.593814e+04 train accuracy: 0.321776 val accuracy: 0.332000\n",
      "lr 2.154435e-07 reg 5.994843e+04 train accuracy: 0.301531 val accuracy: 0.322000\n",
      "lr 2.154435e-07 reg 1.000000e+05 train accuracy: 0.285531 val accuracy: 0.304000\n",
      "lr 3.593814e-07 reg 1.000000e+03 train accuracy: 0.367857 val accuracy: 0.366000\n",
      "lr 3.593814e-07 reg 1.668101e+03 train accuracy: 0.383694 val accuracy: 0.369000\n",
      "lr 3.593814e-07 reg 2.782559e+03 train accuracy: 0.379184 val accuracy: 0.390000\n",
      "lr 3.593814e-07 reg 4.641589e+03 train accuracy: 0.377510 val accuracy: 0.389000\n",
      "lr 3.593814e-07 reg 7.742637e+03 train accuracy: 0.364510 val accuracy: 0.379000\n",
      "lr 3.593814e-07 reg 1.291550e+04 train accuracy: 0.349224 val accuracy: 0.364000\n",
      "lr 3.593814e-07 reg 2.154435e+04 train accuracy: 0.333000 val accuracy: 0.351000\n",
      "lr 3.593814e-07 reg 3.593814e+04 train accuracy: 0.317122 val accuracy: 0.340000\n",
      "lr 3.593814e-07 reg 5.994843e+04 train accuracy: 0.292735 val accuracy: 0.314000\n",
      "lr 3.593814e-07 reg 1.000000e+05 train accuracy: 0.291551 val accuracy: 0.304000\n",
      "lr 5.994843e-07 reg 1.000000e+03 train accuracy: 0.391020 val accuracy: 0.380000\n",
      "lr 5.994843e-07 reg 1.668101e+03 train accuracy: 0.394286 val accuracy: 0.394000\n",
      "lr 5.994843e-07 reg 2.782559e+03 train accuracy: 0.387714 val accuracy: 0.385000\n",
      "lr 5.994843e-07 reg 4.641589e+03 train accuracy: 0.374612 val accuracy: 0.392000\n",
      "lr 5.994843e-07 reg 7.742637e+03 train accuracy: 0.365061 val accuracy: 0.380000\n",
      "lr 5.994843e-07 reg 1.291550e+04 train accuracy: 0.346490 val accuracy: 0.350000\n",
      "lr 5.994843e-07 reg 2.154435e+04 train accuracy: 0.318571 val accuracy: 0.327000\n",
      "lr 5.994843e-07 reg 3.593814e+04 train accuracy: 0.296163 val accuracy: 0.314000\n",
      "lr 5.994843e-07 reg 5.994843e+04 train accuracy: 0.281898 val accuracy: 0.302000\n",
      "lr 5.994843e-07 reg 1.000000e+05 train accuracy: 0.291918 val accuracy: 0.311000\n",
      "lr 1.000000e-06 reg 1.000000e+03 train accuracy: 0.397408 val accuracy: 0.404000\n",
      "lr 1.000000e-06 reg 1.668101e+03 train accuracy: 0.391694 val accuracy: 0.392000\n",
      "lr 1.000000e-06 reg 2.782559e+03 train accuracy: 0.382837 val accuracy: 0.414000\n",
      "lr 1.000000e-06 reg 4.641589e+03 train accuracy: 0.365857 val accuracy: 0.374000\n",
      "lr 1.000000e-06 reg 7.742637e+03 train accuracy: 0.356429 val accuracy: 0.359000\n",
      "lr 1.000000e-06 reg 1.291550e+04 train accuracy: 0.342367 val accuracy: 0.351000\n",
      "lr 1.000000e-06 reg 2.154435e+04 train accuracy: 0.319939 val accuracy: 0.323000\n",
      "lr 1.000000e-06 reg 3.593814e+04 train accuracy: 0.305510 val accuracy: 0.318000\n",
      "lr 1.000000e-06 reg 5.994843e+04 train accuracy: 0.286082 val accuracy: 0.286000\n",
      "lr 1.000000e-06 reg 1.000000e+05 train accuracy: 0.279735 val accuracy: 0.293000\n",
      "best validation accuracy achieved during cross-validation: 0.414000\n"
     ]
    }
   ],
   "source": [
    "# Use the validation set to tune hyperparameters (regularization strength and\n",
    "# learning rate). You should experiment with different ranges for the learning\n",
    "# rates and regularization strengths; if you are careful you should be able to\n",
    "# get a classification accuracy of over 0.35 on the validation set.\n",
    "from cs231n.classifiers import Softmax\n",
    "results = {}\n",
    "best_val = -1\n",
    "best_softmax = None\n",
    "learning_rates = np.logspace(-8, -6, 10)\n",
    "regularization_strengths = np.logspace(3, 5, 10)\n",
    "\n",
    "for lr in learning_rates:\n",
    "    for reg in regularization_strengths:\n",
    "        softmax = Softmax()\n",
    "        softmax.train(X_train, y_train, learning_rate=lr, reg=reg,\n",
    "                              num_iters=1500, verbose=False)\n",
    "        \n",
    "        results[(lr, reg)] = [np.mean(y_train == softmax.predict(X_train)),\\\n",
    "                              np.mean(y_val == softmax.predict(X_val))]\n",
    "        \n",
    "        if results[(lr, reg)][1] > best_val:\n",
    "            best_val = results[(lr, reg)][1]\n",
    "            best_softmax = softmax\n",
    "    \n",
    "# Print out results.\n",
    "for lr, reg in sorted(results):\n",
    "    train_accuracy, val_accuracy = results[(lr, reg)]\n",
    "    print('lr %e reg %e train accuracy: %f val accuracy: %f' % (\n",
    "                lr, reg, train_accuracy, val_accuracy))\n",
    "    \n",
    "print('best validation accuracy achieved during cross-validation: %f' % best_val)"
   ]
  },
  {
   "cell_type": "code",
   "execution_count": 65,
   "metadata": {},
   "outputs": [
    {
     "name": "stdout",
     "output_type": "stream",
     "text": [
      "softmax on raw pixels final test set accuracy: 0.380000\n"
     ]
    }
   ],
   "source": [
    "# evaluate on test set\n",
    "# Evaluate the best softmax on test set\n",
    "y_test_pred = best_softmax.predict(X_test)\n",
    "test_accuracy = np.mean(y_test == y_test_pred)\n",
    "print('softmax on raw pixels final test set accuracy: %f' % (test_accuracy, ))"
   ]
  },
  {
   "cell_type": "markdown",
   "metadata": {},
   "source": [
    "**Inline Question** - *True or False*\n",
    "\n",
    "It's possible to add a new datapoint to a training set that would leave the SVM loss unchanged, but this is not the case with the Softmax classifier loss.\n",
    "\n",
    "*Your answer*:\n",
    "\n",
    "*Your explanation*:"
   ]
  },
  {
   "cell_type": "code",
   "execution_count": 66,
   "metadata": {},
   "outputs": [
    {
     "data": {
      "image/png": "[encoded data removed]",
      "text/plain": [
       "<Figure size 432x288 with 10 Axes>"
      ]
     },
     "metadata": {},
     "output_type": "display_data"
    }
   ],
   "source": [
    "# Visualize the learned weights for each class\n",
    "w = best_softmax.W[:-1,:] # strip out the bias\n",
    "w = w.reshape(32, 32, 3, 10)\n",
    "\n",
    "w_min, w_max = np.min(w), np.max(w)\n",
    "\n",
    "classes = ['plane', 'car', 'bird', 'cat', 'deer', 'dog', 'frog', 'horse', 'ship', 'truck']\n",
    "for i in range(10):\n",
    "    plt.subplot(2, 5, i + 1)\n",
    "    \n",
    "    # Rescale the weights to be between 0 and 255\n",
    "    wimg = 255.0 * (w[:, :, :, i].squeeze() - w_min) / (w_max - w_min)\n",
    "    plt.imshow(wimg.astype('uint8'))\n",
    "    plt.axis('off')\n",
    "    plt.title(classes[i])"
   ]
  },
  {
   "cell_type": "code",
   "execution_count": null,
   "metadata": {},
   "outputs": [],
   "source": []
  }
 ],
 "metadata": {
  "kernelspec": {
   "display_name": "Python 3",
   "language": "python",
   "name": "python3"
  },
  "language_info": {
   "codemirror_mode": {
    "name": "ipython",
    "version": 3
   },
   "file_extension": ".py",
   "mimetype": "text/x-python",
   "name": "python",
   "nbconvert_exporter": "python",
   "pygments_lexer": "ipython3",
   "version": "3.6.5"
  }
 },
 "nbformat": 4,
 "nbformat_minor": 1
}
